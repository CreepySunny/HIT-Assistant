{
 "cells": [
  {
   "cell_type": "markdown",
   "metadata": {},
   "source": [
    "# Predicting Batting statistics\n",
    "\n",
    "## Goal\n",
    "The main goal of this notebook is to understand machine learning.\n",
    "Using baseball statistics to try and predict a batters offensive performance for the comming year based on past years performance.\n",
    "\n",
    "### Things to achieve\n",
    "- Calculate wOBA\n",
    "- Group records by player and year.\n",
    "- Find outliers (Injury, Team change, etc.)\n",
    "- Project wOBA using a players past wOBA.\n",
    "\n",
    "## Load Data from csv file"
   ]
  },
  {
   "cell_type": "code",
   "execution_count": 26,
   "metadata": {},
   "outputs": [],
   "source": [
    "import pandas as pd\n",
    "\n",
    "raw_data = pd.read_csv('data/Batting.csv')"
   ]
  },
  {
   "cell_type": "markdown",
   "metadata": {},
   "source": [
    "## Baseball statistic to quantify offensive production - wOBA\n",
    "\n",
    "wOBA is a sabermetric statistic used to measure a hitter's overall offensive contributions per plate appearance, assigning more accurate weights to different offensive outcomes.\n",
    "General Formula:\n",
    "$$\n",
    "wOBA = \\frac{(wBB \\times BB) + (wHBP \\times HBP) + (w1B \\times 1B) + (w2B \\times 2B) + (w3B \\times 3B) + (wHR \\times HR)}{AB + BB - IBB + SF + HBP}\n",
    "$$\n",
    "Where:\n",
    "- \\( wBB, wHBP, w1B, w2B, w3B, wHR \\) are weights that change slightly every year.\n",
    "- \\( BB \\) = Base on balls (walks)\n",
    "- \\( IBB \\) = Intentional walks\n",
    "- \\( HBP \\) = Hit by pitch\n",
    "- \\( AB \\) = At bats\n",
    "- \\( SF \\) = Sacrifice flies\n",
    "- \\( 1B \\) = Singles\n"
   ]
  },
  {
   "cell_type": "markdown",
   "metadata": {},
   "source": [
    "### Calculate Singles\n",
    "\n",
    "Singles are not included in the dataset.\n",
    "To represent this we take the total hits('H') and remove doubles('2B'), triples('3B') and homeruns('HR')"
   ]
  },
  {
   "cell_type": "code",
   "execution_count": 27,
   "metadata": {},
   "outputs": [],
   "source": [
    "work_df = raw_data.copy()\n",
    "work_df['1B'] = work_df['H'] - work_df['2B'] - work_df['3B'] - work_df['HR']\n",
    "work_df['1B'] = work_df['1B'].fillna(0)\n",
    "work_df['1B'] = work_df['1B'].astype(int)"
   ]
  },
  {
   "cell_type": "markdown",
   "metadata": {},
   "source": [
    "## wOBA weights\n",
    "During the prototyping phases static weights are used.\n",
    "\n",
    "To improve accuracy yearly weights can be calculate form the dataset. "
   ]
  },
  {
   "cell_type": "code",
   "execution_count": 28,
   "metadata": {},
   "outputs": [],
   "source": [
    "wBB = 0.69\n",
    "wHBP = 0.72\n",
    "w1B = 0.88\n",
    "w2B = 1.247\n",
    "w3B = 1.578\n",
    "wHR = 2.031"
   ]
  },
  {
   "cell_type": "markdown",
   "metadata": {},
   "source": [
    "## Calculate wOBA Numerator & Denominator"
   ]
  },
  {
   "cell_type": "code",
   "execution_count": 29,
   "metadata": {},
   "outputs": [],
   "source": [
    "# Fill NaN values with 0\n",
    "work_df['HBP'] = work_df['HBP'].fillna(0)\n",
    "work_df['SF'] = work_df['SF'].fillna(0)\n",
    "\n",
    "# Numerator\n",
    "work_df['wOBA_num'] = (\n",
    "    wBB * (work_df['BB'] - work_df['IBB']) +\n",
    "    wHBP * work_df['HBP'] +\n",
    "    w1B * work_df['1B'] +\n",
    "    w2B * work_df['2B'] +\n",
    "    w3B * work_df['3B'] +\n",
    "    wHR * work_df['HR']\n",
    ")\n",
    "\n",
    "#Denominator\n",
    "work_df['wOBA_deno'] = work_df['AB'] + work_df['BB'] - work_df['IBB'] + work_df['HBP'] + work_df['SF']"
   ]
  },
  {
   "cell_type": "markdown",
   "metadata": {},
   "source": [
    "### Calculate wOBA"
   ]
  },
  {
   "cell_type": "code",
   "execution_count": 30,
   "metadata": {},
   "outputs": [],
   "source": [
    "work_df['wOBA'] = work_df['wOBA_num'] / work_df['wOBA_deno']\n",
    "work_df['wOBA'] = work_df['wOBA'].round(3)"
   ]
  }
 ],
 "metadata": {
  "kernelspec": {
   "display_name": ".venv",
   "language": "python",
   "name": "python3"
  },
  "language_info": {
   "codemirror_mode": {
    "name": "ipython",
    "version": 3
   },
   "file_extension": ".py",
   "mimetype": "text/x-python",
   "name": "python",
   "nbconvert_exporter": "python",
   "pygments_lexer": "ipython3",
   "version": "3.13.2"
  }
 },
 "nbformat": 4,
 "nbformat_minor": 2
}
